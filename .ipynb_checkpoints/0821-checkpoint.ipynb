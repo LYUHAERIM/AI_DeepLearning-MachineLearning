{
 "cells": [
  {
   "cell_type": "markdown",
   "id": "e834f6be-b1bf-4323-8525-7c48e93f70a2",
   "metadata": {},
   "source": [
    "## [모두의 딥러닝] 6장 로지스틱 회귀 모델"
   ]
  },
  {
   "cell_type": "code",
   "execution_count": null,
   "id": "6d0eed69-2ae1-4ec7-baff-5d2c811d161c",
   "metadata": {},
   "outputs": [
    {
     "name": "stderr",
     "output_type": "stream",
     "text": [
      "C:\\Users\\Administrator\\miniconda3\\envs\\tiger-env\\Lib\\site-packages\\keras\\src\\layers\\core\\dense.py:92: UserWarning: Do not pass an `input_shape`/`input_dim` argument to a layer. When using Sequential models, prefer using an `Input(shape)` object as the first layer in the model instead.\n",
      "  super().__init__(activity_regularizer=activity_regularizer, **kwargs)\n"
     ]
    }
   ],
   "source": [
    "import tensorflow\n",
    "import numpy as np\n",
    "import matplotlib.pyplot as plt\n",
    "from tensorflow.keras.models import Sequential\n",
    "from tensorflow.keras.layers import Dense\n",
    "\n",
    "# 문제지\n",
    "x = np.array([2, 4, 6, 8, 10, 12, 14])\n",
    "# 정답\n",
    "y = np.array([0, 0, 0, 1, 1, 1, 1]) \n",
    "\n",
    "# Sequential이란?\n",
    "# 순차적으로 신경망 알고리즘을 구현해주는 객체\n",
    "# 1. 입력 2. 처리 3. 출력\n",
    "model = Sequential()\n",
    "\n",
    "# 매개변수 1 - 출력결과값은 1개가 나온다\n",
    "# input_dim=1 - 문제지의 특성의 개수가 1개이다\n",
    "model.add(Dense(1, input_dim=1, activation='sigmoid'))\n",
    "\n",
    "# optimizer='sgd' - 가중치를 얻기 위하여 어떤 알고리즘을 사용할 것인지를 지시한다\n",
    "# 교차 엔트로피 오차 함수를 이용하기 위하여 'binary_crossentropy'로 설정합니다.\n",
    "# loss='binary_crossentropy' - 손실함수 설정\n",
    "model.compile(optimizer='sgd' ,loss='binary_crossentropy')\n",
    "\n",
    "model.fit(x, y, epochs=5000, verbose=0) #verbose=1 진행 화면 출력, verbose=0 진행 화면 출력 안함.\n",
    "\n",
    "#그래프로 확인해 봅니다.\n",
    "\n",
    "plt.scatter(x, y)\n",
    "plt.plot(x, model.predict(x),'r')\n",
    "plt.show()\n",
    "\n",
    "import tensorflow as tf\n",
    "\n",
    "# 임의의 학습 시간을 집어넣어 합격 예상 확률을 예측해 보겠습니다.\n",
    "\n",
    "hour = 7\n",
    "#prediction = model.predict([hour]) #텐서플로 2.9.0 까지만 가능\n",
    "\n",
    "input_data = tf.constant([[hour]]) \n",
    "prediction = model.predict(input_data)[0][0]  \n",
    "\n",
    "\n",
    "print(\"%.f시간을 공부할 경우, 합격 예상 확률은 %.01f%%입니다\" % (hour, prediction * 100))"
   ]
  },
  {
   "cell_type": "code",
   "execution_count": null,
   "id": "95ec5896-8526-42e1-8c5d-d8e3066473b0",
   "metadata": {
    "scrolled": true
   },
   "outputs": [],
   "source": [
    "# 입력 문제가 1개 >> z = ax + b >> ax + by + c\n",
    "weights = model.get_weights()\n",
    "#결과\n",
    "# [\n",
    "# array([[0.6169218]], dtype=float32), \n",
    "# array([-3.9269254], dtype=float32)\n",
    "# ]\n",
    "print(weights[0], weights[1])\n",
    "# [[0.6169218]] [-3.9269254]\n",
    "print(weights[0][0][0], weights[1][0])\n",
    "# 0.6169218 -3.9269254\n",
    "# z = ax + b\n",
    "#z = 0.6169218 * x + (-3.9269254)\n",
    "z = 0.6169218 * 7 + (-3.9269254)\n",
    "print('z:', z)\n",
    "#z: 0.39152719999999963\n",
    "from tensorflow.keras.activations import sigmoid\n",
    "prob = sigmoid(z)\n",
    "print('prob:', prob)"
   ]
  },
  {
   "cell_type": "markdown",
   "id": "f3eb6fe4-8747-43cd-b813-1ca1d706b90d",
   "metadata": {},
   "source": [
    "## [모두의 딥러닝] 7장 퍼셉트론과 인공지능의 시작"
   ]
  },
  {
   "cell_type": "markdown",
   "id": "3b0c11fe-6bec-40ae-b447-5807e680c224",
   "metadata": {},
   "source": [
    "## [모두의 딥러닝] 8장 다층 퍼셉트론"
   ]
  },
  {
   "cell_type": "code",
   "execution_count": null,
   "id": "30bde60f-48aa-4cda-9790-f8459027b2bb",
   "metadata": {},
   "outputs": [],
   "source": [
    "#다층 퍼셉트론으로 XOR 문제 해결하기\n",
    "import numpy as np\n",
    "\n",
    "# 가중치와 바이어스\n",
    "w11 = np.array([-2, -2])\n",
    "w12 = np.array([2, 2])\n",
    "w2 = np.array([1, 1])\n",
    "b1 = 3\n",
    "b2 = -1\n",
    "b3 = -1\n",
    "\n",
    "# 퍼셉트론\n",
    "def MLP(x, w, b):\n",
    "    y = np.sum(w * x) + b\n",
    "    if y <= 0:\n",
    "        return 0\n",
    "    else:\n",
    "        return 1\n",
    "\n",
    "# NAND 게이트\n",
    "def NAND(x1,x2):\n",
    "    return MLP(np.array([x1, x2]), w11, b1)\n",
    "\n",
    "# OR 게이트\n",
    "def OR(x1,x2):\n",
    "    return MLP(np.array([x1, x2]), w12, b2)\n",
    "\n",
    "# AND 게이트\n",
    "def AND(x1,x2):\n",
    "    return MLP(np.array([x1, x2]), w2, b3)\n",
    "\n",
    "# XOR 게이트\n",
    "def XOR(x1,x2):\n",
    "    return AND(NAND(x1, x2),OR(x1,x2))\n",
    "\n",
    "# x1, x2 값을 번갈아 대입해 가며 최종 값 출력\n",
    "    for x in [(0, 0), (1, 0), (0, 1), (1, 1)]:\n",
    "        y = XOR(x[0], x[1])\n",
    "        print(\"입력 값: \" + str(x) + \" 출력 값: \" + str(y))    "
   ]
  },
  {
   "cell_type": "code",
   "execution_count": null,
   "id": "a91d442d-eb15-4ad2-9380-a3954c62129d",
   "metadata": {},
   "outputs": [],
   "source": [
    "## [모두의 딥러닝] 9장 오차 역전파에서 딥러닝으로"
   ]
  },
  {
   "cell_type": "code",
   "execution_count": null,
   "id": "ee0cf7f9-5e5e-4a12-9649-a60ac066f864",
   "metadata": {},
   "outputs": [],
   "source": []
  },
  {
   "cell_type": "code",
   "execution_count": null,
   "id": "8e6e5bde-771d-4f0d-9209-c9173ca51f13",
   "metadata": {},
   "outputs": [],
   "source": []
  },
  {
   "cell_type": "code",
   "execution_count": null,
   "id": "5e8da112-53fb-4e00-91e0-f54095f59f07",
   "metadata": {},
   "outputs": [],
   "source": []
  },
  {
   "cell_type": "code",
   "execution_count": null,
   "id": "00d6f590-1a4f-42b9-bacd-cf8c8c937ee0",
   "metadata": {},
   "outputs": [],
   "source": []
  },
  {
   "cell_type": "code",
   "execution_count": null,
   "id": "f91a4ed3-2118-4984-8df7-4c5f4aa6dc20",
   "metadata": {},
   "outputs": [],
   "source": []
  },
  {
   "cell_type": "code",
   "execution_count": null,
   "id": "6d867f46-35c7-4055-9f2a-349177581553",
   "metadata": {},
   "outputs": [],
   "source": []
  },
  {
   "cell_type": "code",
   "execution_count": null,
   "id": "a6ef01b8-f21c-4230-b5ed-125420a769aa",
   "metadata": {},
   "outputs": [],
   "source": []
  },
  {
   "cell_type": "code",
   "execution_count": null,
   "id": "87423224-1c0a-4aa7-aa9a-b180dd810e3a",
   "metadata": {},
   "outputs": [],
   "source": []
  },
  {
   "cell_type": "code",
   "execution_count": null,
   "id": "bf8512f5-0253-4325-9919-95126320ff22",
   "metadata": {},
   "outputs": [],
   "source": []
  },
  {
   "cell_type": "code",
   "execution_count": null,
   "id": "b0fcd5ec-8a11-4a50-9778-a6c94e0d5779",
   "metadata": {},
   "outputs": [],
   "source": []
  },
  {
   "cell_type": "code",
   "execution_count": null,
   "id": "6590085b-7390-4fd7-9915-8d53a76dbd8b",
   "metadata": {},
   "outputs": [],
   "source": []
  },
  {
   "cell_type": "code",
   "execution_count": null,
   "id": "799c5256-f3c2-43ce-b077-a4190a17d249",
   "metadata": {},
   "outputs": [],
   "source": []
  },
  {
   "cell_type": "code",
   "execution_count": null,
   "id": "6586d57c-830d-445a-b8d2-9e85b1ce4ee2",
   "metadata": {},
   "outputs": [],
   "source": []
  },
  {
   "cell_type": "code",
   "execution_count": null,
   "id": "357745c4-0e04-4409-94f5-223b62afb8db",
   "metadata": {},
   "outputs": [],
   "source": []
  }
 ],
 "metadata": {
  "kernelspec": {
   "display_name": "Python 3 (ipykernel)",
   "language": "python",
   "name": "python3"
  },
  "language_info": {
   "codemirror_mode": {
    "name": "ipython",
    "version": 3
   },
   "file_extension": ".py",
   "mimetype": "text/x-python",
   "name": "python",
   "nbconvert_exporter": "python",
   "pygments_lexer": "ipython3",
   "version": "3.13.5"
  }
 },
 "nbformat": 4,
 "nbformat_minor": 5
}
