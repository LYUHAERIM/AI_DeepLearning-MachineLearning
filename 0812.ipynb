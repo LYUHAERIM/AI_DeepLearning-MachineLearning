{
 "cells": [
  {
   "cell_type": "code",
   "execution_count": 1,
   "id": "89598fcb-55ef-4d36-9d55-e38081482484",
   "metadata": {},
   "outputs": [
    {
     "name": "stdout",
     "output_type": "stream",
     "text": [
      "[1, 2, 3, 4, 5, 6] <class 'list'>\n"
     ]
    }
   ],
   "source": [
    "x = [1, 2, 3]  # list\n",
    "y = [4, 5, 6]\n",
    "z = x + y  # 연결연산자\n",
    "print(z, type(z))"
   ]
  },
  {
   "cell_type": "code",
   "execution_count": 2,
   "id": "574cf998-9212-4b50-bef7-e584be90a918",
   "metadata": {},
   "outputs": [
    {
     "name": "stdout",
     "output_type": "stream",
     "text": [
      "[0, 2, 4, 6, 8, 10] <class 'list'>\n",
      "[0, 2, 4, 6, 8, 10] <class 'list'>\n",
      "['tiger', 'tiger', 'tiger', 'tiger', 'tiger'] <class 'list'>\n",
      "['apple', 'orange', 'cherry', 'kiwi', 'mango']\n",
      "c: 강아지강아지강아지고양이고양이 <class 'str'>\n",
      "[3 4 5 6 7] <class 'numpy.ndarray'>\n"
     ]
    }
   ],
   "source": [
    "a = []\n",
    "for x in range(6):\n",
    "    #print(x)\n",
    "    a.append(x * 2)\n",
    "print(a, type(a))\n",
    "\n",
    "# 컴푸리헨션 (comprehension)\n",
    "b = [x * 2 for x in range(6)]\n",
    "print(b, type(b))\n",
    "\n",
    "fruits = [\"apple\", \"banana\", \"cherry\", \"kiwi\", \"mango\"]\n",
    "a = [\"tiger\" for x in fruits]\n",
    "print(a, type(a))\n",
    "\n",
    "b = [x if x != \"banana\" else \"orange\" for x in fruits]\n",
    "print(b)\n",
    "\n",
    "c = \"강아지\" * 3 + \"고양이\" * 2\n",
    "print('c:', c, type(c))\n",
    "\n",
    "import numpy as np\n",
    "d = np.array( [3, 4, 5, 6, 7])\n",
    "print(d, type(d))"
   ]
  },
  {
   "cell_type": "code",
   "execution_count": 3,
   "id": "c30ddcbf-309e-4ce1-96e6-8a8e6b56311c",
   "metadata": {},
   "outputs": [
    {
     "name": "stdout",
     "output_type": "stream",
     "text": [
      "도미 35 35\n",
      "빙어 14 14\n",
      "도미 + 빙어: 49 49\n",
      "[[25.4, 242.0], [26.3, 290.0], [26.5, 340.0], [29.0, 363.0], [29.0, 430.0], [29.7, 450.0], [29.7, 500.0], [30.0, 390.0], [30.0, 450.0], [30.7, 500.0], [31.0, 475.0], [31.0, 500.0], [31.5, 500.0], [32.0, 340.0], [32.0, 600.0], [32.0, 600.0], [33.0, 700.0], [33.0, 700.0], [33.5, 610.0], [33.5, 650.0], [34.0, 575.0], [34.0, 685.0], [34.5, 620.0], [35.0, 680.0], [35.0, 700.0], [35.0, 725.0], [35.0, 720.0], [36.0, 714.0], [36.0, 850.0], [37.0, 1000.0], [38.5, 920.0], [38.5, 955.0], [39.5, 925.0], [41.0, 975.0], [41.0, 950.0], [9.8, 6.7], [10.5, 7.5], [10.6, 7.0], [11.0, 9.7], [11.2, 9.8], [11.3, 8.7], [11.8, 10.0], [11.8, 9.9], [12.0, 9.8], [12.2, 12.2], [12.4, 13.4], [13.0, 12.2], [14.3, 19.7], [15.0, 19.9]]\n",
      "[1, 1, 1, 1, 1, 1, 1, 1, 1, 1, 1, 1, 1, 1, 1, 1, 1, 1, 1, 1, 1, 1, 1, 1, 1, 1, 1, 1, 1, 1, 1, 1, 1, 1, 1, 0, 0, 0, 0, 0, 0, 0, 0, 0, 0, 0, 0, 0, 0]\n",
      "평가점수 1.0\n",
      "finish\n",
      "예측 결과는 [1] <class 'numpy.ndarray'>\n",
      "1\n",
      "이 생선은 도미로 예상됩니다.\n",
      "이 생선은 도미 로 예상됩니다.\n"
     ]
    },
    {
     "data": {
      "image/png": "[encoded data removed]",
      "text/plain": [
       "<Figure size 640x480 with 1 Axes>"
      ]
     },
     "metadata": {},
     "output_type": "display_data"
    }
   ],
   "source": [
    "import matplotlib.pyplot as plt\n",
    "from sklearn.neighbors import KNeighborsClassifier\n",
    "\n",
    "# 도미의 길이\n",
    "bream_length = [25.4, 26.3, 26.5, 29.0, 29.0, 29.7, 29.7, 30.0, 30.0, 30.7, \n",
    "                31.0, 31.0, 31.5, 32.0, 32.0, 32.0, 33.0, 33.0, 33.5, 33.5,\n",
    "                34.0, 34.0, 34.5, 35.0, 35.0, 35.0, 35.0, 36.0, 36.0, 37.0,\n",
    "                38.5, 38.5, 39.5, 41.0, 41.0]\n",
    "# 도미의 무게\n",
    "bream_weight = [242.0, 290.0, 340.0, 363.0, 430.0, 450.0, 500.0, 390.0, 450.0, 500.0,\n",
    "                475.0, 500.0, 500.0, 340.0, 600.0, 600.0, 700.0, 700.0, 610.0, 650.0,\n",
    "                575.0, 685.0, 620.0, 680.0, 700.0, 725.0, 720.0, 714.0, 850.0, 1000.0,\n",
    "                920.0, 955.0, 925.0, 975.0, 950.0]\n",
    "\n",
    "# 빙어의 길이\n",
    "smelt_length = [9.8, 10.5, 10.6, 11.0, 11.2, 11.3, 11.8, 11.8, 12.0, 12.2,\n",
    "                12.4, 13.0, 14.3, 15.0]\n",
    "# 빙어의 길이\n",
    "smelt_weight = [6.7, 7.5, 7.0, 9.7, 9.8, 8.7, 10.0, 9.9, 9.8, 12.2, 13.4,\n",
    "                12.2, 19.7, 19.9]\n",
    "\n",
    "#35 35\n",
    "print('도미', len(bream_length), len(bream_weight))\n",
    "\n",
    "#14 14\n",
    "print('빙어' , len(smelt_length), len(smelt_weight))\n",
    "\n",
    "\n",
    "length = bream_length + smelt_length\n",
    "weight = bream_weight + smelt_weight\n",
    "print('도미 + 빙어:', len(length), len(weight))\n",
    "\n",
    "# fish_data = [ for x in 반복요소]\n",
    "fish_data = [[l, w] for l, w in zip(length, weight)]\n",
    "print(fish_data)\n",
    "\n",
    "# 도미 1 빙어 0\n",
    "fish_target = [1]*35 + [0]*14\n",
    "print(fish_target)\n",
    "\n",
    "# knn 알고리즘 객체 생성\n",
    "kn = KNeighborsClassifier()\n",
    "\n",
    "# 훈련\n",
    "# kn.fit(문제지, 정답)\n",
    "kn.fit(fish_data, fish_target)\n",
    "\n",
    "# 평가\n",
    "print('평가점수', kn.score(fish_data, fish_target))\n",
    "print('finish')\n",
    "\n",
    "# 예측\n",
    "result = kn.predict( [[30, 600]] )\n",
    "print('예측 결과는', result, type(result))\n",
    "print(result[0])\n",
    "\n",
    "if result[0] == 1:\n",
    "    print('이 생선은 도미로 예상됩니다.')\n",
    "else:\n",
    "    print('이 생선은 빙어로 예상됩니다.')\n",
    "\n",
    "\n",
    "print('이 생선은', '도미' if result[0] == 1 else '빙어', '로 예상됩니다.')\n",
    "\n",
    "# plt.scatter(x축 좌표 리스트[], y축 좌표 리스트[])\n",
    "plt.scatter(bream_length, bream_weight)\n",
    "plt.scatter(smelt_length, smelt_weight)\n",
    "plt.scatter(30, 600, marker='^')\n",
    "plt.xlabel('length')\n",
    "plt.ylabel('weight')\n",
    "\n",
    "plt.show()"
   ]
  },
  {
   "cell_type": "markdown",
   "id": "ce398253-fad0-4394-a832-0c5e520ba086",
   "metadata": {},
   "source": [
    "## 01-3 마켓과 머신러닝"
   ]
  },
  {
   "cell_type": "code",
   "execution_count": 4,
   "id": "2105c81e-0e0b-417c-893f-943ada42cc36",
   "metadata": {},
   "outputs": [],
   "source": [
    "# 도미 데이터 준비하기\n",
    "bream_length = [25.4, 26.3, 26.5, 29.0, 29.0, 29.7, 29.7, 30.0, 30.0, 30.7, \n",
    "                31.0, 31.0, 31.5, 32.0, 32.0, 32.0, 33.0, 33.0, 33.5, 33.5,\n",
    "                34.0, 34.0, 34.5, 35.0, 35.0, 35.0, 35.0, 36.0, 36.0, 37.0,\n",
    "                38.5, 38.5, 39.5, 41.0, 41.0]\n",
    "bream_weight = [242.0, 290.0, 340.0, 363.0, 430.0, 450.0, 500.0, 390.0, 450.0, 500.0,\n",
    "                475.0, 500.0, 500.0, 340.0, 600.0, 600.0, 700.0, 700.0, 610.0, 650.0,\n",
    "                575.0, 685.0, 620.0, 680.0, 700.0, 725.0, 720.0, 714.0, 850.0, 1000.0,\n",
    "                920.0, 955.0, 925.0, 975.0, 950.0]\n",
    "\n",
    "# 빙어 데이터 준비하기\n",
    "smelt_length = [9.8, 10.5, 10.6, 11.0, 11.2, 11.3, 11.8, 11.8, 12.0, 12.2,\n",
    "                12.4, 13.0, 14.3, 15.0]\n",
    "smelt_weight = [6.7, 7.5, 7.0, 9.7, 9.8, 8.7, 10.0, 9.9, 9.8, 12.2, 13.4,\n",
    "                12.2, 19.7, 19.9]"
   ]
  },
  {
   "cell_type": "code",
   "execution_count": 5,
   "id": "6b917756-101f-4b9c-91da-d54126f428e9",
   "metadata": {},
   "outputs": [
    {
     "data": {
      "text/plain": [
       "1.0"
      ]
     },
     "execution_count": 5,
     "metadata": {},
     "output_type": "execute_result"
    }
   ],
   "source": [
    "# 첫 번째 머신러닝 프로그램\n",
    "from sklearn.neighbors import KNeighborsClassifier\n",
    "\n",
    "length = bream_length+smelt_length\n",
    "weight = bream_weight+smelt_weight\n",
    "\n",
    "fish_data = [[l, w] for l, w in zip(length, weight)]\n",
    "\n",
    "fish_target = [1]*35 + [0]*14\n",
    "\n",
    "kn = KNeighborsClassifier()\n",
    "kn.fit(fish_data, fish_target)\n",
    "kn.score(fish_data, fish_target)"
   ]
  },
  {
   "cell_type": "code",
   "execution_count": 6,
   "id": "4aaa9c0c-c979-4604-b9d7-7757049cc392",
   "metadata": {},
   "outputs": [
    {
     "data": {
      "image/png": "[encoded data removed]",
      "text/plain": [
       "<Figure size 640x480 with 1 Axes>"
      ]
     },
     "metadata": {},
     "output_type": "display_data"
    }
   ],
   "source": [
    "plt.scatter(bream_length, bream_weight)\n",
    "plt.scatter(smelt_length, smelt_weight)\n",
    "plt.scatter(30, 600, marker='^')\n",
    "plt.xlabel('length')\n",
    "plt.ylabel('weight')\n",
    "plt.show()"
   ]
  },
  {
   "cell_type": "code",
   "execution_count": 7,
   "id": "288771e9-ec2b-41fa-a586-706d1e2a8351",
   "metadata": {},
   "outputs": [
    {
     "name": "stdout",
     "output_type": "stream",
     "text": [
      "[[  25.4  242. ]\n",
      " [  26.3  290. ]\n",
      " [  26.5  340. ]\n",
      " [  29.   363. ]\n",
      " [  29.   430. ]\n",
      " [  29.7  450. ]\n",
      " [  29.7  500. ]\n",
      " [  30.   390. ]\n",
      " [  30.   450. ]\n",
      " [  30.7  500. ]\n",
      " [  31.   475. ]\n",
      " [  31.   500. ]\n",
      " [  31.5  500. ]\n",
      " [  32.   340. ]\n",
      " [  32.   600. ]\n",
      " [  32.   600. ]\n",
      " [  33.   700. ]\n",
      " [  33.   700. ]\n",
      " [  33.5  610. ]\n",
      " [  33.5  650. ]\n",
      " [  34.   575. ]\n",
      " [  34.   685. ]\n",
      " [  34.5  620. ]\n",
      " [  35.   680. ]\n",
      " [  35.   700. ]\n",
      " [  35.   725. ]\n",
      " [  35.   720. ]\n",
      " [  36.   714. ]\n",
      " [  36.   850. ]\n",
      " [  37.  1000. ]\n",
      " [  38.5  920. ]\n",
      " [  38.5  955. ]\n",
      " [  39.5  925. ]\n",
      " [  41.   975. ]\n",
      " [  41.   950. ]\n",
      " [   9.8    6.7]\n",
      " [  10.5    7.5]\n",
      " [  10.6    7. ]\n",
      " [  11.     9.7]\n",
      " [  11.2    9.8]\n",
      " [  11.3    8.7]\n",
      " [  11.8   10. ]\n",
      " [  11.8    9.9]\n",
      " [  12.     9.8]\n",
      " [  12.2   12.2]\n",
      " [  12.4   13.4]\n",
      " [  13.    12.2]\n",
      " [  14.3   19.7]\n",
      " [  15.    19.9]]\n",
      "[1 1 1 1 1 1 1 1 1 1 1 1 1 1 1 1 1 1 1 1 1 1 1 1 1 1 1 1 1 1 1 1 1 1 1 0 0\n",
      " 0 0 0 0 0 0 0 0 0 0 0 0]\n",
      "0.7142857142857143\n"
     ]
    }
   ],
   "source": [
    "kn.predict([[30, 600]])\n",
    "print(kn._fit_X)\n",
    "print(kn._y)\n",
    "kn49 = KNeighborsClassifier(n_neighbors=49)\n",
    "kn49.fit(fish_data, fish_target)\n",
    "kn49.score(fish_data, fish_target)\n",
    "print(35/49)"
   ]
  },
  {
   "cell_type": "code",
   "execution_count": null,
   "id": "9910320f-b5c2-4bf6-9d4f-63cc526142c3",
   "metadata": {},
   "outputs": [],
   "source": []
  },
  {
   "cell_type": "code",
   "execution_count": 8,
   "id": "56ece865-af6d-4fa2-b36f-c4eab7d7270a",
   "metadata": {},
   "outputs": [],
   "source": [
    "# 도미 + 빙어\n",
    "fish_length = [25.4, 26.3, 26.5, 29.0, 29.0, 29.7, 29.7, 30.0, 30.0, 30.7,\n",
    "               31.0, 31.0, 31.5, 32.0, 32.0, 32.0, 33.0, 33.0, 33.5, 33.5,\n",
    "               34.0, 34.0, 34.5, 35.0, 35.0, 35.0, 35.0, 36.0, 36.0, 37.0,\n",
    "               38.5, 38.5, 39.5, 41.0, 41.0, 9.8, 10.5, 10.6, 11.0, 11.2,\n",
    "               11.3, 11.8, 11.8, 12.0, 12.2, 12.4, 13.0, 14.3, 15.0]\n",
    "\n",
    "fish_weight = [242.0, 290.0, 340.0, 363.0, 430.0, 450.0, 500.0, 390.0, 450.0, 500.0,\n",
    "               475.0, 500.0, 500.0, 340.0, 600.0, 600.0, 700.0, 700.0, 610.0, 650.0,\n",
    "               575.0, 685.0, 620.0, 680.0, 700.0, 725.0, 720.0, 714.0, 850.0, 1000.0,\n",
    "               920.0, 955.0, 925.0, 975.0, 950.0, 6.7, 7.5, 7.0, 9.7, 9.8,\n",
    "               8.7, 10.0, 9.9, 9.8, 12.2, 13.4, 12.2, 19.7, 19.9]"
   ]
  },
  {
   "cell_type": "code",
   "execution_count": 9,
   "id": "b23e1463-59e6-46d0-b19d-55411b2359ef",
   "metadata": {},
   "outputs": [],
   "source": [
    "from sklearn.neighbors import KNeighborsClassifier\n",
    "import numpy as np\n",
    "\n",
    "fish_data = [[l, w] for l, w in zip(fish_length, fish_weight)]\n",
    "fish_target = [1]*35 + [0]*14\n",
    "\n",
    "kn = KNeighborsClassifier()\n",
    "\n",
    "input_arr = np.array(fish_data)\n",
    "target_arr = np.array(fish_target)\n",
    "\n",
    "np.random.seed(42)\n",
    "index = np.arange(49)\n",
    "np.random.shuffle(index)\n",
    "\n",
    "train_input = input_arr[index[:35]]\n",
    "train_target = target_arr[index[:35]]\n",
    "\n",
    "test_input = input_arr[index[35:]]\n",
    "test_target = target_arr[index[35:]]"
   ]
  },
  {
   "cell_type": "code",
   "execution_count": 10,
   "id": "602929eb-137f-4451-92f0-41d18822fde9",
   "metadata": {},
   "outputs": [
    {
     "data": {
      "image/png": "[encoded data removed]",
      "text/plain": [
       "<Figure size 640x480 with 1 Axes>"
      ]
     },
     "metadata": {},
     "output_type": "display_data"
    }
   ],
   "source": [
    "import matplotlib.pyplot as plt\n",
    "\n",
    "plt.scatter(train_input[:, 0], train_input[:, 1])\n",
    "plt.scatter(test_input[:, 0], test_input[:, 1])\n",
    "plt.xlabel('length')\n",
    "plt.ylabel('weight')\n",
    "plt.show()"
   ]
  },
  {
   "cell_type": "code",
   "execution_count": 11,
   "id": "d89d77ae-5158-4629-9606-a1747626a65b",
   "metadata": {},
   "outputs": [
    {
     "data": {
      "text/plain": [
       "array([0, 0, 1, 0, 1, 1, 1, 0, 1, 1, 0, 1, 1, 0])"
      ]
     },
     "execution_count": 11,
     "metadata": {},
     "output_type": "execute_result"
    }
   ],
   "source": [
    "kn.fit(train_input, train_target)\n",
    "kn.score(test_input, test_target)\n",
    "kn.predict(test_input)"
   ]
  }
 ],
 "metadata": {
  "kernelspec": {
   "display_name": "Python 3 (ipykernel)",
   "language": "python",
   "name": "python3"
  },
  "language_info": {
   "codemirror_mode": {
    "name": "ipython",
    "version": 3
   },
   "file_extension": ".py",
   "mimetype": "text/x-python",
   "name": "python",
   "nbconvert_exporter": "python",
   "pygments_lexer": "ipython3",
   "version": "3.13.5"
  }
 },
 "nbformat": 4,
 "nbformat_minor": 5
}
